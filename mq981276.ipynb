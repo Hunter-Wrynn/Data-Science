{
 "cells": [
  {
   "cell_type": "markdown",
   "id": "0a726b87",
   "metadata": {},
   "source": [
    "wrtien by Hunter_Ma from Southeast university of China \n"
    "Load the data from the csv file into a Python Pandas data frame named df\n",
    "\n",
    "- a. Initially, df should have 1989 rows and 6 columns\n",
    "- b. Add a column called sscore to df \n",
    "    - i. Fill the sscore column with the ‘compound’ sentiment analysis score based on \n",
    "the daily headline news for each day. \n",
    "    - ii. Calculate the average (mean) ‘compound’ score for the column sscore and store \n",
    "this average number in a variable named avg"
   ]
  },
  {
   "cell_type": "code",
   "execution_count": 1,
   "id": "85e5c1f5",
   "metadata": {},
   "outputs": [],
   "source": [
    "import pandas as pd"
   ]
  },
  {
   "cell_type": "code",
   "execution_count": 8,
   "id": "5bf3c8fa",
   "metadata": {},
   "outputs": [],
   "source": [
    "df = pd.read_csv(\"stockdailyhlnews.csv\")"
   ]
  },
  {
   "cell_type": "code",
   "execution_count": 11,
   "id": "5f605be2",
   "metadata": {},
   "outputs": [
    {
     "data": {
      "text/plain": [
       "(1989, 6)"
      ]
     },
     "execution_count": 11,
     "metadata": {},
     "output_type": "execute_result"
    }
   ],
   "source": [
    "df.shape"
   ]
  },
  {
   "cell_type": "code",
   "execution_count": 9,
   "id": "0fd9fb5f",
   "metadata": {},
   "outputs": [
    {
     "data": {
      "text/html": [
       "<div>\n",
       "<style scoped>\n",
       "    .dataframe tbody tr th:only-of-type {\n",
       "        vertical-align: middle;\n",
       "    }\n",
       "\n",
       "    .dataframe tbody tr th {\n",
       "        vertical-align: top;\n",
       "    }\n",
       "\n",
       "    .dataframe thead th {\n",
       "        text-align: right;\n",
       "    }\n",
       "</style>\n",
       "<table border=\"1\" class=\"dataframe\">\n",
       "  <thead>\n",
       "    <tr style=\"text-align: right;\">\n",
       "      <th></th>\n",
       "      <th>date</th>\n",
       "      <th>weekday</th>\n",
       "      <th>president</th>\n",
       "      <th>sp500</th>\n",
       "      <th>ibm</th>\n",
       "      <th>news</th>\n",
       "    </tr>\n",
       "  </thead>\n",
       "  <tbody>\n",
       "    <tr>\n",
       "      <th>0</th>\n",
       "      <td>8/8/2008</td>\n",
       "      <td>Friday</td>\n",
       "      <td>republican</td>\n",
       "      <td>1296.32</td>\n",
       "      <td>87.77</td>\n",
       "      <td>b\"Georgia 'downs two Russian warplanes' as cou...</td>\n",
       "    </tr>\n",
       "    <tr>\n",
       "      <th>1</th>\n",
       "      <td>8/11/2008</td>\n",
       "      <td>Monday</td>\n",
       "      <td>republican</td>\n",
       "      <td>1305.32</td>\n",
       "      <td>86.26</td>\n",
       "      <td>b'Why wont America and Nato help us? If they w...</td>\n",
       "    </tr>\n",
       "    <tr>\n",
       "      <th>2</th>\n",
       "      <td>8/12/2008</td>\n",
       "      <td>Tuesday</td>\n",
       "      <td>republican</td>\n",
       "      <td>1289.59</td>\n",
       "      <td>85.32</td>\n",
       "      <td>b'Remember that adorable 9-year-old who sang a...</td>\n",
       "    </tr>\n",
       "    <tr>\n",
       "      <th>3</th>\n",
       "      <td>8/13/2008</td>\n",
       "      <td>Wednesday</td>\n",
       "      <td>republican</td>\n",
       "      <td>1285.83</td>\n",
       "      <td>85.72</td>\n",
       "      <td>b' U.S. refuses Israel weapons to attack Iran:...</td>\n",
       "    </tr>\n",
       "    <tr>\n",
       "      <th>4</th>\n",
       "      <td>8/14/2008</td>\n",
       "      <td>Thursday</td>\n",
       "      <td>republican</td>\n",
       "      <td>1292.93</td>\n",
       "      <td>86.50</td>\n",
       "      <td>b'All the experts admit that we should legalis...</td>\n",
       "    </tr>\n",
       "  </tbody>\n",
       "</table>\n",
       "</div>"
      ],
      "text/plain": [
       "        date    weekday   president    sp500    ibm  \\\n",
       "0   8/8/2008     Friday  republican  1296.32  87.77   \n",
       "1  8/11/2008     Monday  republican  1305.32  86.26   \n",
       "2  8/12/2008    Tuesday  republican  1289.59  85.32   \n",
       "3  8/13/2008  Wednesday  republican  1285.83  85.72   \n",
       "4  8/14/2008   Thursday  republican  1292.93  86.50   \n",
       "\n",
       "                                                news  \n",
       "0  b\"Georgia 'downs two Russian warplanes' as cou...  \n",
       "1  b'Why wont America and Nato help us? If they w...  \n",
       "2  b'Remember that adorable 9-year-old who sang a...  \n",
       "3  b' U.S. refuses Israel weapons to attack Iran:...  \n",
       "4  b'All the experts admit that we should legalis...  "
      ]
     },
     "execution_count": 9,
     "metadata": {},
     "output_type": "execute_result"
    }
   ],
   "source": [
    "df.head()"
   ]
  },
  {
   "cell_type": "code",
   "execution_count": 19,
   "id": "4a60c879",
   "metadata": {},
   "outputs": [],
   "source": [
    "from nltk.sentiment.vader import SentimentIntensityAnalyzer\n",
    "# Create an instance of the SentimentIntensityAnalyzer.\n",
    "sia = SentimentIntensityAnalyzer()\n",
    "# Define a function to apply the sentiment analysis to each headline and return the compound score.\n",
    "def get_sentiment_score(text):\n",
    "    return sia.polarity_scores(text)['compound']"
   ]
  },
  {
   "cell_type": "code",
   "execution_count": 20,
   "id": "27a9791a",
   "metadata": {},
   "outputs": [],
   "source": [
    "# Calculate the average (mean) ‘compound’ score for the column sscore\n",
    "df['sscore'] = df['news'].apply(get_sentiment_score)"
   ]
  },
  {
   "cell_type": "code",
   "execution_count": 22,
   "id": "9e19beab",
   "metadata": {},
   "outputs": [],
   "source": [
    "#  store  this average number in a variable named avgsscore.\n",
    "avgscore = df['sscore'].mean()"
   ]
  },
  {
   "cell_type": "markdown",
   "id": "21f71c5e",
   "metadata": {},
   "source": [
    "2) Converts weekday and the president columns to dummy variables\n",
    "\n",
    "- a. Add the dummy variables (columns) to the original data frame df"
   ]
  },
  {
   "cell_type": "code",
   "execution_count": 28,
   "id": "8077074a",
   "metadata": {},
   "outputs": [],
   "source": [
    "df = pd.get_dummies(df, columns=[\"weekday\",\"president\"])"
   ]
  },
  {
   "cell_type": "markdown",
   "id": "7a0754bf",
   "metadata": {},
   "source": [
    "3) Is the IBM stock price influenced by the sentiment compound score and/or s&p 500 index? \n",
    "\n",
    "\n",
    "a. Use from statsmodels.formula.api import ols for this linear regression task\n"
   ]
  },
  {
   "cell_type": "code",
   "execution_count": 30,
   "id": "631afb07",
   "metadata": {},
   "outputs": [],
   "source": [
    "from statsmodels.formula.api import ols"
   ]
  },
  {
   "cell_type": "markdown",
   "id": "284851b2",
   "metadata": {},
   "source": [
    "b. Store adjusted rsquaures in a variable named adj_rsquared\n"
   ]
  },
  {
   "cell_type": "code",
   "execution_count": 46,
   "id": "ae6190e5",
   "metadata": {},
   "outputs": [
    {
     "data": {
      "text/html": [
       "<table class=\"simpletable\">\n",
       "<caption>OLS Regression Results</caption>\n",
       "<tr>\n",
       "  <th>Dep. Variable:</th>           <td>ibm</td>       <th>  R-squared:         </th> <td>   0.369</td> \n",
       "</tr>\n",
       "<tr>\n",
       "  <th>Model:</th>                   <td>OLS</td>       <th>  Adj. R-squared:    </th> <td>   0.368</td> \n",
       "</tr>\n",
       "<tr>\n",
       "  <th>Method:</th>             <td>Least Squares</td>  <th>  F-statistic:       </th> <td>   579.5</td> \n",
       "</tr>\n",
       "<tr>\n",
       "  <th>Date:</th>             <td>Fri, 17 Feb 2023</td> <th>  Prob (F-statistic):</th> <td>5.64e-199</td>\n",
       "</tr>\n",
       "<tr>\n",
       "  <th>Time:</th>                 <td>13:20:57</td>     <th>  Log-Likelihood:    </th> <td> -8759.7</td> \n",
       "</tr>\n",
       "<tr>\n",
       "  <th>No. Observations:</th>      <td>  1989</td>      <th>  AIC:               </th> <td>1.753e+04</td>\n",
       "</tr>\n",
       "<tr>\n",
       "  <th>Df Residuals:</th>          <td>  1986</td>      <th>  BIC:               </th> <td>1.754e+04</td>\n",
       "</tr>\n",
       "<tr>\n",
       "  <th>Df Model:</th>              <td>     2</td>      <th>                     </th>     <td> </td>    \n",
       "</tr>\n",
       "<tr>\n",
       "  <th>Covariance Type:</th>      <td>nonrobust</td>    <th>                     </th>     <td> </td>    \n",
       "</tr>\n",
       "</table>\n",
       "<table class=\"simpletable\">\n",
       "<tr>\n",
       "      <td></td>         <th>coef</th>     <th>std err</th>      <th>t</th>      <th>P>|t|</th>  <th>[0.025</th>    <th>0.975]</th>  \n",
       "</tr>\n",
       "<tr>\n",
       "  <th>Intercept</th> <td>   55.9497</td> <td>    1.733</td> <td>   32.289</td> <td> 0.000</td> <td>   52.551</td> <td>   59.348</td>\n",
       "</tr>\n",
       "<tr>\n",
       "  <th>sp500</th>     <td>    0.0373</td> <td>    0.001</td> <td>   34.043</td> <td> 0.000</td> <td>    0.035</td> <td>    0.039</td>\n",
       "</tr>\n",
       "<tr>\n",
       "  <th>sscore</th>    <td>   -0.9153</td> <td>    0.801</td> <td>   -1.142</td> <td> 0.253</td> <td>   -2.487</td> <td>    0.656</td>\n",
       "</tr>\n",
       "</table>\n",
       "<table class=\"simpletable\">\n",
       "<tr>\n",
       "  <th>Omnibus:</th>       <td>1303.547</td> <th>  Durbin-Watson:     </th> <td>   0.005</td>\n",
       "</tr>\n",
       "<tr>\n",
       "  <th>Prob(Omnibus):</th>  <td> 0.000</td>  <th>  Jarque-Bera (JB):  </th> <td> 128.395</td>\n",
       "</tr>\n",
       "<tr>\n",
       "  <th>Skew:</th>           <td> 0.207</td>  <th>  Prob(JB):          </th> <td>1.32e-28</td>\n",
       "</tr>\n",
       "<tr>\n",
       "  <th>Kurtosis:</th>       <td> 1.826</td>  <th>  Cond. No.          </th> <td>6.07e+03</td>\n",
       "</tr>\n",
       "</table><br/><br/>Notes:<br/>[1] Standard Errors assume that the covariance matrix of the errors is correctly specified.<br/>[2] The condition number is large, 6.07e+03. This might indicate that there are<br/>strong multicollinearity or other numerical problems."
      ],
      "text/plain": [
       "<class 'statsmodels.iolib.summary.Summary'>\n",
       "\"\"\"\n",
       "                            OLS Regression Results                            \n",
       "==============================================================================\n",
       "Dep. Variable:                    ibm   R-squared:                       0.369\n",
       "Model:                            OLS   Adj. R-squared:                  0.368\n",
       "Method:                 Least Squares   F-statistic:                     579.5\n",
       "Date:                Fri, 17 Feb 2023   Prob (F-statistic):          5.64e-199\n",
       "Time:                        13:20:57   Log-Likelihood:                -8759.7\n",
       "No. Observations:                1989   AIC:                         1.753e+04\n",
       "Df Residuals:                    1986   BIC:                         1.754e+04\n",
       "Df Model:                           2                                         \n",
       "Covariance Type:            nonrobust                                         \n",
       "==============================================================================\n",
       "                 coef    std err          t      P>|t|      [0.025      0.975]\n",
       "------------------------------------------------------------------------------\n",
       "Intercept     55.9497      1.733     32.289      0.000      52.551      59.348\n",
       "sp500          0.0373      0.001     34.043      0.000       0.035       0.039\n",
       "sscore        -0.9153      0.801     -1.142      0.253      -2.487       0.656\n",
       "==============================================================================\n",
       "Omnibus:                     1303.547   Durbin-Watson:                   0.005\n",
       "Prob(Omnibus):                  0.000   Jarque-Bera (JB):              128.395\n",
       "Skew:                           0.207   Prob(JB):                     1.32e-28\n",
       "Kurtosis:                       1.826   Cond. No.                     6.07e+03\n",
       "==============================================================================\n",
       "\n",
       "Notes:\n",
       "[1] Standard Errors assume that the covariance matrix of the errors is correctly specified.\n",
       "[2] The condition number is large, 6.07e+03. This might indicate that there are\n",
       "strong multicollinearity or other numerical problems.\n",
       "\"\"\""
      ]
     },
     "execution_count": 46,
     "metadata": {},
     "output_type": "execute_result"
    }
   ],
   "source": [
    "# Fit a multiple linear regression model\n",
    "model = ols('ibm ~ sp500 + sscore', data=df).fit()\n",
    "model.summary()"
   ]
  },
  {
   "cell_type": "code",
   "execution_count": 47,
   "id": "5c6aa53b",
   "metadata": {},
   "outputs": [
    {
     "name": "stdout",
     "output_type": "stream",
     "text": [
      "Adjusted R-squared: 0.368\n"
     ]
    }
   ],
   "source": [
    "\n",
    "# Retrieve the R-squared value and the number of observations\n",
    "r_squared = model.rsquared\n",
    "nobs = model.nobs\n",
    "k = X.shape[1]  # number of independent variables\n",
    "\n",
    "# Calculate the adjusted R-squared value\n",
    "adj_rsquared = 1 - (1 - r_squared) * (nobs - 1) / (nobs - k - 1)\n",
    "\n",
    "# Print the adjusted R-squared value\n",
    "print(f\"Adjusted R-squared: {adj_rsquared:.3f}\")"
   ]
  },
  {
   "cell_type": "markdown",
   "id": "d204cd9e",
   "metadata": {},
   "source": [
    "c. Store pvalue of f-statistics in a variable named f_pvalue\n"
   ]
  },
  {
   "cell_type": "code",
   "execution_count": 48,
   "id": "83d7d852",
   "metadata": {},
   "outputs": [
    {
     "name": "stdout",
     "output_type": "stream",
     "text": [
      "P-value of F-statistic: 0.0000\n"
     ]
    }
   ],
   "source": [
    "# Retrieve the F-statistic and its p-value\n",
    "f_stat = model.fvalue\n",
    "f_pvalue = model.f_pvalue\n",
    "\n",
    "# Print the p-value of the F-statistic\n",
    "print(f\"P-value of F-statistic: {f_pvalue:.4f}\")"
   ]
  },
  {
   "cell_type": "markdown",
   "id": "1dbe4edb",
   "metadata": {},
   "source": [
    "d. Store pvalue of sscore in a variable named sscore_pvalue\n"
   ]
  },
  {
   "cell_type": "code",
   "execution_count": 49,
   "id": "8ce7a261",
   "metadata": {},
   "outputs": [
    {
     "name": "stdout",
     "output_type": "stream",
     "text": [
      "sscore_pvalue of pvalue: 0.2534\n"
     ]
    }
   ],
   "source": [
    "sscore_pvalue = model.pvalues[2]\n",
    "\n",
    "# Print the p-value of the sscore_pvalue\n",
    "print(f\"sscore_pvalue of pvalue: {sscore_pvalue:.4f}\")"
   ]
  },
  {
   "cell_type": "markdown",
   "id": "2714a24b",
   "metadata": {},
   "source": [
    "e. Store pvalue of sp500 in a variable named sp500_pvalue\n"
   ]
  },
  {
   "cell_type": "code",
   "execution_count": 53,
   "id": "48f20dbf",
   "metadata": {},
   "outputs": [
    {
     "name": "stdout",
     "output_type": "stream",
     "text": [
      "sp500_pvalue of pvalue: 0.0000\n"
     ]
    }
   ],
   "source": [
    "sp500_pvalue = model.pvalues[1]\n",
    "\n",
    "# Print the p-value of the sp500_pvalue\n",
    "print(f\"sp500_pvalue of pvalue: {sp500_pvalue:.4f}\")"
   ]
  },
  {
   "cell_type": "markdown",
   "id": "506372f6",
   "metadata": {},
   "source": [
    "f. If a relationship exists between sscore and ibm stock price, then store a boolean value of \n",
    "True in a variable named sscore_rel; otherwise, sscore_rel should be set to False"
   ]
  },
  {
   "cell_type": "code",
   "execution_count": 54,
   "id": "7c0ec4e4",
   "metadata": {},
   "outputs": [],
   "source": [
    "sscore_rel = False"
   ]
  },
  {
   "cell_type": "markdown",
   "id": "cb8b8925",
   "metadata": {},
   "source": [
    "g if a relationship exists between s&p 500 index and ibm stock price, then store a boolean \n",
    "value of True in a variable named sp500_rel; otherwise, sp500_rel should be set to False"
   ]
  },
  {
   "cell_type": "code",
   "execution_count": 55,
   "id": "5e72a0f7",
   "metadata": {},
   "outputs": [],
   "source": [
    "sp500_rel = True"
   ]
  },
  {
   "cell_type": "markdown",
   "id": "f4353d3a",
   "metadata": {},
   "source": [
    "4) Can we predict whether Republican or Democrat will be in the White House based on s&p 500 \n",
    "index, ibm stock price, and sscore?\n",
    "\n",
    "a. Use sklearn for this classification problem:\n",
    "   - i. from sklearn.model_selection import train_test_split\n",
    "   - ii. from sklearn.linear_model import LogisticRegression\n",
    "   - iii. split the data into training and test datasets using 80% training & 20% test and a random seed value of 10\n",
    "   - iv. store the logistic model score in a variable named logmodel_score"
   ]
  },
  {
   "cell_type": "code",
   "execution_count": 58,
   "id": "11653fff",
   "metadata": {},
   "outputs": [],
   "source": [
    "from sklearn.model_selection import train_test_split\n",
    "from sklearn.linear_model import LogisticRegression"
   ]
  },
  {
   "cell_type": "code",
   "execution_count": 62,
   "id": "f3983f8a",
   "metadata": {},
   "outputs": [],
   "source": [
    "X = df[[\"sp500\",\"ibm\",\"sscore\"]]\n",
    "y = df[\"president_democrat\"]"
   ]
  },
  {
   "cell_type": "code",
   "execution_count": 64,
   "id": "d89b4461",
   "metadata": {},
   "outputs": [],
   "source": [
    "# plit the data into training and test datasets using 80% training & 20% test\n",
    "X_train, X_test, y_train, y_test = train_test_split(X, y, test_size=0.2, random_state=10)"
   ]
  },
  {
   "cell_type": "code",
   "execution_count": 79,
   "id": "0a257c57",
   "metadata": {},
   "outputs": [],
   "source": [
    "logreg = LogisticRegression()\n",
    "logreg.fit(X_train, y_train)\n",
    "y_pred = logreg.predict(X_test)"
   ]
  },
  {
   "cell_type": "code",
   "execution_count": 85,
   "id": "b5c20e58",
   "metadata": {},
   "outputs": [
    {
     "name": "stdout",
     "output_type": "stream",
     "text": [
      "              precision    recall  f1-score   support\n",
      "\n",
      "  republican       0.90      0.62      0.73        29\n",
      "    democrat       0.97      0.99      0.98       369\n",
      "\n",
      "    accuracy                           0.97       398\n",
      "   macro avg       0.94      0.81      0.86       398\n",
      "weighted avg       0.97      0.97      0.96       398\n",
      "\n"
     ]
    }
   ],
   "source": [
    "from sklearn.metrics import classification_report\n",
    "###   test datasets  20%\n",
    "print(classification_report(y_test, y_pred, target_names=[\"republican\",\"democrat\"]))"
   ]
  },
  {
   "cell_type": "code",
   "execution_count": 87,
   "id": "6067ac9d",
   "metadata": {},
   "outputs": [
    {
     "name": "stdout",
     "output_type": "stream",
     "text": [
      "              precision    recall  f1-score   support\n",
      "\n",
      "  republican       0.91      0.64      0.75        83\n",
      "    democrat       0.98      1.00      0.99      1508\n",
      "\n",
      "    accuracy                           0.98      1591\n",
      "   macro avg       0.95      0.82      0.87      1591\n",
      "weighted avg       0.98      0.98      0.98      1591\n",
      "\n"
     ]
    }
   ],
   "source": [
    "###   training datasets  80%\n",
    "y_pred = logreg.predict(X_train)\n",
    "print(classification_report(y_train, y_pred, target_names=[\"republican\",\"democrat\"]))"
   ]
  }
 ],
 "metadata": {
  "kernelspec": {
   "display_name": "Python [conda env:root] *",
   "language": "python",
   "name": "conda-root-py"
  },
  "language_info": {
   "codemirror_mode": {
    "name": "ipython",
    "version": 3
   },
   "file_extension": ".py",
   "mimetype": "text/x-python",
   "name": "python",
   "nbconvert_exporter": "python",
   "pygments_lexer": "ipython3",
   "version": "3.9.7"
  }
 },
 "nbformat": 4,
 "nbformat_minor": 5
}
